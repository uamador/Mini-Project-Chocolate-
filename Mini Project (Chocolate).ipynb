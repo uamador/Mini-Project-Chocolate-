{
 "cells": [
  {
   "cell_type": "markdown",
   "id": "9a81c58c-e453-4dc6-a207-58d994bc3316",
   "metadata": {},
   "source": [
    "# Download the Dataset\n",
    "Download the dataset from the following link:\n",
    "https://www.kaggle.com/rtatman/chocolate-bar-ratings\n",
    "Download the dataset to your local computer in the project directory of your choice."
   ]
  },
  {
   "cell_type": "markdown",
   "id": "983b44d1-0148-48fc-937f-85be3f05731d",
   "metadata": {},
   "source": [
    "# Reading the Dataset\n",
    "Read the dataset into a Pandas DataFrame!\n",
    "Does the dataset include any missing values? If so, delete the missing values entries!\n",
    "Hint: Pandas can do that with one line of code!"
   ]
  },
  {
   "cell_type": "code",
   "execution_count": 1,
   "id": "0c978fb1-f92e-47dc-beb9-cc44df9c50df",
   "metadata": {},
   "outputs": [],
   "source": [
    "import pandas as pd\n",
    "df = pd.read_csv(\"flavors_of_cacao.csv\").dropna()"
   ]
  },
  {
   "cell_type": "code",
   "execution_count": 2,
   "id": "d57001b7-4f9c-44f1-9590-00bf46a0080d",
   "metadata": {},
   "outputs": [],
   "source": [
    "df.columns = ['Company', 'SpecificBeanOrigin',\n",
    "       'REF', 'ReviewDate', 'CocoaPercent', 'CompanyLocation', 'Rating',\n",
    "       'BeanType', 'BroadBeanOrigin']"
   ]
  },
  {
   "cell_type": "markdown",
   "id": "cb3438f5-bb67-41ce-ba63-8e0bb8b74294",
   "metadata": {},
   "source": [
    "# Exploring the Dataset\n",
    "Answer the following questions about the dataset using Python commands:\n",
    "\n",
    "Hint: Each question should require few lines of code!"
   ]
  },
  {
   "cell_type": "markdown",
   "id": "6de2faa1-4abf-484f-bc98-d68e70366bf7",
   "metadata": {},
   "source": [
    "#### How many tuples are there in the dataset?"
   ]
  },
  {
   "cell_type": "code",
   "execution_count": 3,
   "id": "0aff9a08-c40f-47ff-b7d1-30065c7f2ee2",
   "metadata": {},
   "outputs": [
    {
     "data": {
      "text/plain": [
       "1793"
      ]
     },
     "execution_count": 3,
     "metadata": {},
     "output_type": "execute_result"
    }
   ],
   "source": [
    "len(df)"
   ]
  },
  {
   "cell_type": "markdown",
   "id": "ef58db91-d444-4056-8ce9-bae68430c534",
   "metadata": {},
   "source": [
    "#### How many unique company names are there in the dataset?"
   ]
  },
  {
   "cell_type": "code",
   "execution_count": 4,
   "id": "d6ba6d51-da5c-4624-b55a-8e4c0a4a0ded",
   "metadata": {},
   "outputs": [
    {
     "data": {
      "text/plain": [
       "416"
      ]
     },
     "execution_count": 4,
     "metadata": {},
     "output_type": "execute_result"
    }
   ],
   "source": [
    "len(df.Company.unique())"
   ]
  },
  {
   "cell_type": "markdown",
   "id": "24f045ae-8891-452d-9bef-f92613ea2b86",
   "metadata": {},
   "source": [
    "#### How many reviews are made in 2013 in the dataset?"
   ]
  },
  {
   "cell_type": "code",
   "execution_count": 5,
   "id": "cbeb550e-03d0-423e-ab39-1b5b61b33341",
   "metadata": {},
   "outputs": [
    {
     "data": {
      "text/html": [
       "<div>\n",
       "<style scoped>\n",
       "    .dataframe tbody tr th:only-of-type {\n",
       "        vertical-align: middle;\n",
       "    }\n",
       "\n",
       "    .dataframe tbody tr th {\n",
       "        vertical-align: top;\n",
       "    }\n",
       "\n",
       "    .dataframe thead th {\n",
       "        text-align: right;\n",
       "    }\n",
       "</style>\n",
       "<table border=\"1\" class=\"dataframe\">\n",
       "  <thead>\n",
       "    <tr style=\"text-align: right;\">\n",
       "      <th></th>\n",
       "      <th>Company</th>\n",
       "      <th>SpecificBeanOrigin</th>\n",
       "      <th>REF</th>\n",
       "      <th>ReviewDate</th>\n",
       "      <th>CocoaPercent</th>\n",
       "      <th>CompanyLocation</th>\n",
       "      <th>Rating</th>\n",
       "      <th>BeanType</th>\n",
       "      <th>BroadBeanOrigin</th>\n",
       "    </tr>\n",
       "  </thead>\n",
       "  <tbody>\n",
       "    <tr>\n",
       "      <th>10</th>\n",
       "      <td>A. Morin</td>\n",
       "      <td>Panama</td>\n",
       "      <td>1011</td>\n",
       "      <td>2013</td>\n",
       "      <td>70%</td>\n",
       "      <td>France</td>\n",
       "      <td>2.75</td>\n",
       "      <td></td>\n",
       "      <td>Panama</td>\n",
       "    </tr>\n",
       "    <tr>\n",
       "      <th>11</th>\n",
       "      <td>A. Morin</td>\n",
       "      <td>Madagascar</td>\n",
       "      <td>1011</td>\n",
       "      <td>2013</td>\n",
       "      <td>70%</td>\n",
       "      <td>France</td>\n",
       "      <td>3.00</td>\n",
       "      <td>Criollo</td>\n",
       "      <td>Madagascar</td>\n",
       "    </tr>\n",
       "    <tr>\n",
       "      <th>12</th>\n",
       "      <td>A. Morin</td>\n",
       "      <td>Brazil</td>\n",
       "      <td>1011</td>\n",
       "      <td>2013</td>\n",
       "      <td>70%</td>\n",
       "      <td>France</td>\n",
       "      <td>3.25</td>\n",
       "      <td></td>\n",
       "      <td>Brazil</td>\n",
       "    </tr>\n",
       "    <tr>\n",
       "      <th>13</th>\n",
       "      <td>A. Morin</td>\n",
       "      <td>Equateur</td>\n",
       "      <td>1011</td>\n",
       "      <td>2013</td>\n",
       "      <td>70%</td>\n",
       "      <td>France</td>\n",
       "      <td>3.75</td>\n",
       "      <td></td>\n",
       "      <td>Ecuador</td>\n",
       "    </tr>\n",
       "    <tr>\n",
       "      <th>14</th>\n",
       "      <td>A. Morin</td>\n",
       "      <td>Colombie</td>\n",
       "      <td>1015</td>\n",
       "      <td>2013</td>\n",
       "      <td>70%</td>\n",
       "      <td>France</td>\n",
       "      <td>2.75</td>\n",
       "      <td></td>\n",
       "      <td>Colombia</td>\n",
       "    </tr>\n",
       "    <tr>\n",
       "      <th>...</th>\n",
       "      <td>...</td>\n",
       "      <td>...</td>\n",
       "      <td>...</td>\n",
       "      <td>...</td>\n",
       "      <td>...</td>\n",
       "      <td>...</td>\n",
       "      <td>...</td>\n",
       "      <td>...</td>\n",
       "      <td>...</td>\n",
       "    </tr>\n",
       "    <tr>\n",
       "      <th>1738</th>\n",
       "      <td>Wilkie's Organic</td>\n",
       "      <td>Amazonas w/ nibs</td>\n",
       "      <td>1173</td>\n",
       "      <td>2013</td>\n",
       "      <td>75%</td>\n",
       "      <td>Ireland</td>\n",
       "      <td>2.75</td>\n",
       "      <td>Criollo</td>\n",
       "      <td>Peru</td>\n",
       "    </tr>\n",
       "    <tr>\n",
       "      <th>1741</th>\n",
       "      <td>Willie's Cacao</td>\n",
       "      <td>Java, Indonesian Black</td>\n",
       "      <td>1109</td>\n",
       "      <td>2013</td>\n",
       "      <td>100%</td>\n",
       "      <td>U.K.</td>\n",
       "      <td>2.25</td>\n",
       "      <td></td>\n",
       "      <td>Indonesia</td>\n",
       "    </tr>\n",
       "    <tr>\n",
       "      <th>1751</th>\n",
       "      <td>Woodblock</td>\n",
       "      <td>Camino Verde P., Balao, Guayas</td>\n",
       "      <td>1042</td>\n",
       "      <td>2013</td>\n",
       "      <td>70%</td>\n",
       "      <td>U.S.A.</td>\n",
       "      <td>3.25</td>\n",
       "      <td></td>\n",
       "      <td>Ecuador</td>\n",
       "    </tr>\n",
       "    <tr>\n",
       "      <th>1752</th>\n",
       "      <td>Woodblock</td>\n",
       "      <td>Gran Couva</td>\n",
       "      <td>1042</td>\n",
       "      <td>2013</td>\n",
       "      <td>70%</td>\n",
       "      <td>U.S.A.</td>\n",
       "      <td>3.50</td>\n",
       "      <td>Trinitario</td>\n",
       "      <td>Trinidad</td>\n",
       "    </tr>\n",
       "    <tr>\n",
       "      <th>1758</th>\n",
       "      <td>Xocolat</td>\n",
       "      <td>Hispaniola</td>\n",
       "      <td>1057</td>\n",
       "      <td>2013</td>\n",
       "      <td>66%</td>\n",
       "      <td>Domincan Republic</td>\n",
       "      <td>3.00</td>\n",
       "      <td></td>\n",
       "      <td>Dominican Republic</td>\n",
       "    </tr>\n",
       "  </tbody>\n",
       "</table>\n",
       "<p>184 rows × 9 columns</p>\n",
       "</div>"
      ],
      "text/plain": [
       "               Company              SpecificBeanOrigin   REF  ReviewDate  \\\n",
       "10            A. Morin                          Panama  1011        2013   \n",
       "11            A. Morin                      Madagascar  1011        2013   \n",
       "12            A. Morin                          Brazil  1011        2013   \n",
       "13            A. Morin                        Equateur  1011        2013   \n",
       "14            A. Morin                        Colombie  1015        2013   \n",
       "...                ...                             ...   ...         ...   \n",
       "1738  Wilkie's Organic                Amazonas w/ nibs  1173        2013   \n",
       "1741    Willie's Cacao          Java, Indonesian Black  1109        2013   \n",
       "1751         Woodblock  Camino Verde P., Balao, Guayas  1042        2013   \n",
       "1752         Woodblock                      Gran Couva  1042        2013   \n",
       "1758           Xocolat                      Hispaniola  1057        2013   \n",
       "\n",
       "     CocoaPercent    CompanyLocation  Rating    BeanType     BroadBeanOrigin  \n",
       "10            70%             France    2.75                          Panama  \n",
       "11            70%             France    3.00     Criollo          Madagascar  \n",
       "12            70%             France    3.25                          Brazil  \n",
       "13            70%             France    3.75                         Ecuador  \n",
       "14            70%             France    2.75                        Colombia  \n",
       "...           ...                ...     ...         ...                 ...  \n",
       "1738          75%            Ireland    2.75     Criollo                Peru  \n",
       "1741         100%               U.K.    2.25                       Indonesia  \n",
       "1751          70%             U.S.A.    3.25                         Ecuador  \n",
       "1752          70%             U.S.A.    3.50  Trinitario            Trinidad  \n",
       "1758          66%  Domincan Republic    3.00              Dominican Republic  \n",
       "\n",
       "[184 rows x 9 columns]"
      ]
     },
     "execution_count": 5,
     "metadata": {},
     "output_type": "execute_result"
    }
   ],
   "source": [
    "df[df.ReviewDate == 2013]"
   ]
  },
  {
   "cell_type": "markdown",
   "id": "33850ed5-3c0b-43e2-9efb-94a808ca09c1",
   "metadata": {},
   "source": [
    "#### In the BeanType column, how many missing values are there?"
   ]
  },
  {
   "cell_type": "code",
   "execution_count": 6,
   "id": "98c0ba91-864a-42ad-bd57-1e8ec3274846",
   "metadata": {},
   "outputs": [
    {
     "data": {
      "text/plain": [
       "'\\xa0'"
      ]
     },
     "execution_count": 6,
     "metadata": {},
     "output_type": "execute_result"
    }
   ],
   "source": [
    "df[\"BeanType\"][0]"
   ]
  },
  {
   "cell_type": "code",
   "execution_count": 7,
   "id": "0648f9e1-0109-4fdd-a194-eba3f6b3c5e4",
   "metadata": {},
   "outputs": [
    {
     "data": {
      "text/html": [
       "<div>\n",
       "<style scoped>\n",
       "    .dataframe tbody tr th:only-of-type {\n",
       "        vertical-align: middle;\n",
       "    }\n",
       "\n",
       "    .dataframe tbody tr th {\n",
       "        vertical-align: top;\n",
       "    }\n",
       "\n",
       "    .dataframe thead th {\n",
       "        text-align: right;\n",
       "    }\n",
       "</style>\n",
       "<table border=\"1\" class=\"dataframe\">\n",
       "  <thead>\n",
       "    <tr style=\"text-align: right;\">\n",
       "      <th></th>\n",
       "      <th>Company</th>\n",
       "      <th>SpecificBeanOrigin</th>\n",
       "      <th>REF</th>\n",
       "      <th>ReviewDate</th>\n",
       "      <th>CocoaPercent</th>\n",
       "      <th>CompanyLocation</th>\n",
       "      <th>Rating</th>\n",
       "      <th>BeanType</th>\n",
       "      <th>BroadBeanOrigin</th>\n",
       "    </tr>\n",
       "  </thead>\n",
       "  <tbody>\n",
       "    <tr>\n",
       "      <th>0</th>\n",
       "      <td>A. Morin</td>\n",
       "      <td>Agua Grande</td>\n",
       "      <td>1876</td>\n",
       "      <td>2016</td>\n",
       "      <td>63%</td>\n",
       "      <td>France</td>\n",
       "      <td>3.75</td>\n",
       "      <td></td>\n",
       "      <td>Sao Tome</td>\n",
       "    </tr>\n",
       "    <tr>\n",
       "      <th>1</th>\n",
       "      <td>A. Morin</td>\n",
       "      <td>Kpime</td>\n",
       "      <td>1676</td>\n",
       "      <td>2015</td>\n",
       "      <td>70%</td>\n",
       "      <td>France</td>\n",
       "      <td>2.75</td>\n",
       "      <td></td>\n",
       "      <td>Togo</td>\n",
       "    </tr>\n",
       "    <tr>\n",
       "      <th>2</th>\n",
       "      <td>A. Morin</td>\n",
       "      <td>Atsane</td>\n",
       "      <td>1676</td>\n",
       "      <td>2015</td>\n",
       "      <td>70%</td>\n",
       "      <td>France</td>\n",
       "      <td>3.00</td>\n",
       "      <td></td>\n",
       "      <td>Togo</td>\n",
       "    </tr>\n",
       "    <tr>\n",
       "      <th>3</th>\n",
       "      <td>A. Morin</td>\n",
       "      <td>Akata</td>\n",
       "      <td>1680</td>\n",
       "      <td>2015</td>\n",
       "      <td>70%</td>\n",
       "      <td>France</td>\n",
       "      <td>3.50</td>\n",
       "      <td></td>\n",
       "      <td>Togo</td>\n",
       "    </tr>\n",
       "    <tr>\n",
       "      <th>4</th>\n",
       "      <td>A. Morin</td>\n",
       "      <td>Quilla</td>\n",
       "      <td>1704</td>\n",
       "      <td>2015</td>\n",
       "      <td>70%</td>\n",
       "      <td>France</td>\n",
       "      <td>3.50</td>\n",
       "      <td></td>\n",
       "      <td>Peru</td>\n",
       "    </tr>\n",
       "    <tr>\n",
       "      <th>...</th>\n",
       "      <td>...</td>\n",
       "      <td>...</td>\n",
       "      <td>...</td>\n",
       "      <td>...</td>\n",
       "      <td>...</td>\n",
       "      <td>...</td>\n",
       "      <td>...</td>\n",
       "      <td>...</td>\n",
       "      <td>...</td>\n",
       "    </tr>\n",
       "    <tr>\n",
       "      <th>1787</th>\n",
       "      <td>Zotter</td>\n",
       "      <td>Santo Domingo</td>\n",
       "      <td>879</td>\n",
       "      <td>2012</td>\n",
       "      <td>70%</td>\n",
       "      <td>Austria</td>\n",
       "      <td>3.75</td>\n",
       "      <td></td>\n",
       "      <td>Dominican Republic</td>\n",
       "    </tr>\n",
       "    <tr>\n",
       "      <th>1789</th>\n",
       "      <td>Zotter</td>\n",
       "      <td>Indianer, Raw</td>\n",
       "      <td>883</td>\n",
       "      <td>2012</td>\n",
       "      <td>58%</td>\n",
       "      <td>Austria</td>\n",
       "      <td>3.50</td>\n",
       "      <td></td>\n",
       "      <td></td>\n",
       "    </tr>\n",
       "    <tr>\n",
       "      <th>1790</th>\n",
       "      <td>Zotter</td>\n",
       "      <td>Peru</td>\n",
       "      <td>647</td>\n",
       "      <td>2011</td>\n",
       "      <td>70%</td>\n",
       "      <td>Austria</td>\n",
       "      <td>3.75</td>\n",
       "      <td></td>\n",
       "      <td>Peru</td>\n",
       "    </tr>\n",
       "    <tr>\n",
       "      <th>1793</th>\n",
       "      <td>Zotter</td>\n",
       "      <td>Kerala State</td>\n",
       "      <td>781</td>\n",
       "      <td>2011</td>\n",
       "      <td>62%</td>\n",
       "      <td>Austria</td>\n",
       "      <td>3.25</td>\n",
       "      <td></td>\n",
       "      <td>India</td>\n",
       "    </tr>\n",
       "    <tr>\n",
       "      <th>1794</th>\n",
       "      <td>Zotter</td>\n",
       "      <td>Brazil, Mitzi Blue</td>\n",
       "      <td>486</td>\n",
       "      <td>2010</td>\n",
       "      <td>65%</td>\n",
       "      <td>Austria</td>\n",
       "      <td>3.00</td>\n",
       "      <td></td>\n",
       "      <td>Brazil</td>\n",
       "    </tr>\n",
       "  </tbody>\n",
       "</table>\n",
       "<p>887 rows × 9 columns</p>\n",
       "</div>"
      ],
      "text/plain": [
       "       Company  SpecificBeanOrigin   REF  ReviewDate CocoaPercent  \\\n",
       "0     A. Morin         Agua Grande  1876        2016          63%   \n",
       "1     A. Morin               Kpime  1676        2015          70%   \n",
       "2     A. Morin              Atsane  1676        2015          70%   \n",
       "3     A. Morin               Akata  1680        2015          70%   \n",
       "4     A. Morin              Quilla  1704        2015          70%   \n",
       "...        ...                 ...   ...         ...          ...   \n",
       "1787    Zotter       Santo Domingo   879        2012          70%   \n",
       "1789    Zotter       Indianer, Raw   883        2012          58%   \n",
       "1790    Zotter                Peru   647        2011          70%   \n",
       "1793    Zotter        Kerala State   781        2011          62%   \n",
       "1794    Zotter  Brazil, Mitzi Blue   486        2010          65%   \n",
       "\n",
       "     CompanyLocation  Rating BeanType     BroadBeanOrigin  \n",
       "0             France    3.75                     Sao Tome  \n",
       "1             France    2.75                         Togo  \n",
       "2             France    3.00                         Togo  \n",
       "3             France    3.50                         Togo  \n",
       "4             France    3.50                         Peru  \n",
       "...              ...     ...      ...                 ...  \n",
       "1787         Austria    3.75           Dominican Republic  \n",
       "1789         Austria    3.50                               \n",
       "1790         Austria    3.75                         Peru  \n",
       "1793         Austria    3.25                        India  \n",
       "1794         Austria    3.00                       Brazil  \n",
       "\n",
       "[887 rows x 9 columns]"
      ]
     },
     "execution_count": 7,
     "metadata": {},
     "output_type": "execute_result"
    }
   ],
   "source": [
    "df[df.BeanType == '\\xa0']"
   ]
  },
  {
   "cell_type": "markdown",
   "id": "5cbff9e4-ec7f-48db-aa35-f8d31001a73a",
   "metadata": {},
   "source": [
    "# 4 Visualization\n",
    "\n",
    "\n",
    "Convert and Visualize\n",
    "\n"
   ]
  },
  {
   "cell_type": "markdown",
   "id": "7a1aa810-8979-47db-b3d1-d86f864adf47",
   "metadata": {},
   "source": [
    "#### Visualize the rating column with a histogram!\n",
    "Comment on the resulting figure!"
   ]
  },
  {
   "cell_type": "code",
   "execution_count": 8,
   "id": "92cf2360-32cb-41a7-80b6-c7f413986b55",
   "metadata": {},
   "outputs": [
    {
     "data": {
      "text/plain": [
       "Text(0.5, 0, 'Ratings')"
      ]
     },
     "execution_count": 8,
     "metadata": {},
     "output_type": "execute_result"
    },
    {
     "data": {
      "image/png": "[encoded data removed]",
      "text/plain": [
       "<Figure size 1152x360 with 1 Axes>"
      ]
     },
     "metadata": {
      "needs_background": "light"
     },
     "output_type": "display_data"
    }
   ],
   "source": [
    "import matplotlib.pyplot as plt\n",
    "ratings = df.Rating.values\n",
    "plt.figure(figsize = (16,5))\n",
    "plt.hist(ratings, bins = 4, color = \"blue\")\n",
    "plt.xlabel(\"Ratings\")"
   ]
  },
  {
   "cell_type": "code",
   "execution_count": 9,
   "id": "12e5589e-fd32-496b-847d-a60e351f4da0",
   "metadata": {},
   "outputs": [],
   "source": [
    "## Most ratings are between 3 & 4. Very few poor ratings and few excellent ratings (4 - 5)"
   ]
  },
  {
   "cell_type": "markdown",
   "id": "24f21ffc-e11e-4c0f-99f0-9784a6e09c6d",
   "metadata": {},
   "source": [
    "#### Convert the Column Percent\n",
    "Change the type of values in the column percent from string values to numerical values."
   ]
  },
  {
   "cell_type": "code",
   "execution_count": 10,
   "id": "0b5321c6-109a-460a-bb17-a7786cf0625e",
   "metadata": {
    "tags": []
   },
   "outputs": [
    {
     "name": "stderr",
     "output_type": "stream",
     "text": [
      "/tmp/ipykernel_967/649460819.py:1: FutureWarning: The default value of regex will change from True to False in a future version.\n",
      "  df[\"CocoaPercent\"] = df[\"CocoaPercent\"].str.replace(r'\\D',\"\").astype(int)\n"
     ]
    }
   ],
   "source": [
    "df[\"CocoaPercent\"] = df[\"CocoaPercent\"].str.replace(r'\\D',\"\").astype(int)"
   ]
  },
  {
   "cell_type": "code",
   "execution_count": 11,
   "id": "b9b34fe9-6e4e-45f0-94b4-aae119b39102",
   "metadata": {},
   "outputs": [
    {
     "data": {
      "text/html": [
       "<div>\n",
       "<style scoped>\n",
       "    .dataframe tbody tr th:only-of-type {\n",
       "        vertical-align: middle;\n",
       "    }\n",
       "\n",
       "    .dataframe tbody tr th {\n",
       "        vertical-align: top;\n",
       "    }\n",
       "\n",
       "    .dataframe thead th {\n",
       "        text-align: right;\n",
       "    }\n",
       "</style>\n",
       "<table border=\"1\" class=\"dataframe\">\n",
       "  <thead>\n",
       "    <tr style=\"text-align: right;\">\n",
       "      <th></th>\n",
       "      <th>Company</th>\n",
       "      <th>SpecificBeanOrigin</th>\n",
       "      <th>REF</th>\n",
       "      <th>ReviewDate</th>\n",
       "      <th>CocoaPercent</th>\n",
       "      <th>CompanyLocation</th>\n",
       "      <th>Rating</th>\n",
       "      <th>BeanType</th>\n",
       "      <th>BroadBeanOrigin</th>\n",
       "    </tr>\n",
       "  </thead>\n",
       "  <tbody>\n",
       "    <tr>\n",
       "      <th>0</th>\n",
       "      <td>A. Morin</td>\n",
       "      <td>Agua Grande</td>\n",
       "      <td>1876</td>\n",
       "      <td>2016</td>\n",
       "      <td>63</td>\n",
       "      <td>France</td>\n",
       "      <td>3.75</td>\n",
       "      <td></td>\n",
       "      <td>Sao Tome</td>\n",
       "    </tr>\n",
       "    <tr>\n",
       "      <th>1</th>\n",
       "      <td>A. Morin</td>\n",
       "      <td>Kpime</td>\n",
       "      <td>1676</td>\n",
       "      <td>2015</td>\n",
       "      <td>70</td>\n",
       "      <td>France</td>\n",
       "      <td>2.75</td>\n",
       "      <td></td>\n",
       "      <td>Togo</td>\n",
       "    </tr>\n",
       "    <tr>\n",
       "      <th>2</th>\n",
       "      <td>A. Morin</td>\n",
       "      <td>Atsane</td>\n",
       "      <td>1676</td>\n",
       "      <td>2015</td>\n",
       "      <td>70</td>\n",
       "      <td>France</td>\n",
       "      <td>3.00</td>\n",
       "      <td></td>\n",
       "      <td>Togo</td>\n",
       "    </tr>\n",
       "    <tr>\n",
       "      <th>3</th>\n",
       "      <td>A. Morin</td>\n",
       "      <td>Akata</td>\n",
       "      <td>1680</td>\n",
       "      <td>2015</td>\n",
       "      <td>70</td>\n",
       "      <td>France</td>\n",
       "      <td>3.50</td>\n",
       "      <td></td>\n",
       "      <td>Togo</td>\n",
       "    </tr>\n",
       "    <tr>\n",
       "      <th>4</th>\n",
       "      <td>A. Morin</td>\n",
       "      <td>Quilla</td>\n",
       "      <td>1704</td>\n",
       "      <td>2015</td>\n",
       "      <td>70</td>\n",
       "      <td>France</td>\n",
       "      <td>3.50</td>\n",
       "      <td></td>\n",
       "      <td>Peru</td>\n",
       "    </tr>\n",
       "  </tbody>\n",
       "</table>\n",
       "</div>"
      ],
      "text/plain": [
       "    Company SpecificBeanOrigin   REF  ReviewDate  CocoaPercent  \\\n",
       "0  A. Morin        Agua Grande  1876        2016            63   \n",
       "1  A. Morin              Kpime  1676        2015            70   \n",
       "2  A. Morin             Atsane  1676        2015            70   \n",
       "3  A. Morin              Akata  1680        2015            70   \n",
       "4  A. Morin             Quilla  1704        2015            70   \n",
       "\n",
       "  CompanyLocation  Rating BeanType BroadBeanOrigin  \n",
       "0          France    3.75                 Sao Tome  \n",
       "1          France    2.75                     Togo  \n",
       "2          France    3.00                     Togo  \n",
       "3          France    3.50                     Togo  \n",
       "4          France    3.50                     Peru  "
      ]
     },
     "execution_count": 11,
     "metadata": {},
     "output_type": "execute_result"
    }
   ],
   "source": [
    "df.head()"
   ]
  },
  {
   "cell_type": "markdown",
   "id": "155a7486-2d8b-4424-9ff1-4eeb81e1f779",
   "metadata": {
    "tags": []
   },
   "source": [
    "# 5 Visualize\n",
    "* Plot the converted numerical Cocoa Percent values against the Rating values!\n",
    "* From what you see, does more cocoa in a bar correspond to a higher rating?\n",
    "Hint: Try a scatter plot with small alpha, e.g., 0.1, to flush out the density of each point."
   ]
  },
  {
   "cell_type": "code",
   "execution_count": 12,
   "id": "d2ebddf3-7cc1-43d5-aa25-dc20d7294210",
   "metadata": {},
   "outputs": [
    {
     "data": {
      "text/plain": [
       "Text(0.5, 0, 'Cocoa Percent')"
      ]
     },
     "execution_count": 12,
     "metadata": {},
     "output_type": "execute_result"
    },
    {
     "data": {
      "image/png": "[encoded data removed]",
      "text/plain": [
       "<Figure size 1152x360 with 1 Axes>"
      ]
     },
     "metadata": {
      "needs_background": "light"
     },
     "output_type": "display_data"
    }
   ],
   "source": [
    "ratings = df.Rating.values\n",
    "percent = df.CocoaPercent.values\n",
    "plt.figure(figsize = (16,5))\n",
    "plt.scatter(percent, ratings,color = \"blue\")\n",
    "plt.xlabel(\"Cocoa Percent\")"
   ]
  },
  {
   "cell_type": "code",
   "execution_count": null,
   "id": "eef3493c-5fe0-49b4-8d98-2249e9363afb",
   "metadata": {},
   "outputs": [],
   "source": []
  },
  {
   "cell_type": "code",
   "execution_count": null,
   "id": "77a5da31-87cc-45e5-b6c4-44bb039db505",
   "metadata": {},
   "outputs": [],
   "source": []
  },
  {
   "cell_type": "code",
   "execution_count": 13,
   "id": "701471e3-2510-4fad-9491-a6a7932abc7e",
   "metadata": {},
   "outputs": [
    {
     "data": {
      "text/html": [
       "<div>\n",
       "<style scoped>\n",
       "    .dataframe tbody tr th:only-of-type {\n",
       "        vertical-align: middle;\n",
       "    }\n",
       "\n",
       "    .dataframe tbody tr th {\n",
       "        vertical-align: top;\n",
       "    }\n",
       "\n",
       "    .dataframe thead th {\n",
       "        text-align: right;\n",
       "    }\n",
       "</style>\n",
       "<table border=\"1\" class=\"dataframe\">\n",
       "  <thead>\n",
       "    <tr style=\"text-align: right;\">\n",
       "      <th></th>\n",
       "      <th>REF</th>\n",
       "      <th>ReviewDate</th>\n",
       "      <th>CocoaPercent</th>\n",
       "      <th>Rating</th>\n",
       "    </tr>\n",
       "  </thead>\n",
       "  <tbody>\n",
       "    <tr>\n",
       "      <th>count</th>\n",
       "      <td>1793.000000</td>\n",
       "      <td>1793.000000</td>\n",
       "      <td>1793.000000</td>\n",
       "      <td>1793.000000</td>\n",
       "    </tr>\n",
       "    <tr>\n",
       "      <th>mean</th>\n",
       "      <td>1036.126046</td>\n",
       "      <td>2012.326269</td>\n",
       "      <td>74.196319</td>\n",
       "      <td>3.185862</td>\n",
       "    </tr>\n",
       "    <tr>\n",
       "      <th>std</th>\n",
       "      <td>553.128742</td>\n",
       "      <td>2.928666</td>\n",
       "      <td>40.449228</td>\n",
       "      <td>0.477668</td>\n",
       "    </tr>\n",
       "    <tr>\n",
       "      <th>min</th>\n",
       "      <td>5.000000</td>\n",
       "      <td>2006.000000</td>\n",
       "      <td>42.000000</td>\n",
       "      <td>1.000000</td>\n",
       "    </tr>\n",
       "    <tr>\n",
       "      <th>25%</th>\n",
       "      <td>576.000000</td>\n",
       "      <td>2010.000000</td>\n",
       "      <td>70.000000</td>\n",
       "      <td>3.000000</td>\n",
       "    </tr>\n",
       "    <tr>\n",
       "      <th>50%</th>\n",
       "      <td>1073.000000</td>\n",
       "      <td>2013.000000</td>\n",
       "      <td>70.000000</td>\n",
       "      <td>3.250000</td>\n",
       "    </tr>\n",
       "    <tr>\n",
       "      <th>75%</th>\n",
       "      <td>1502.000000</td>\n",
       "      <td>2015.000000</td>\n",
       "      <td>75.000000</td>\n",
       "      <td>3.500000</td>\n",
       "    </tr>\n",
       "    <tr>\n",
       "      <th>max</th>\n",
       "      <td>1952.000000</td>\n",
       "      <td>2017.000000</td>\n",
       "      <td>735.000000</td>\n",
       "      <td>5.000000</td>\n",
       "    </tr>\n",
       "  </tbody>\n",
       "</table>\n",
       "</div>"
      ],
      "text/plain": [
       "               REF   ReviewDate  CocoaPercent       Rating\n",
       "count  1793.000000  1793.000000   1793.000000  1793.000000\n",
       "mean   1036.126046  2012.326269     74.196319     3.185862\n",
       "std     553.128742     2.928666     40.449228     0.477668\n",
       "min       5.000000  2006.000000     42.000000     1.000000\n",
       "25%     576.000000  2010.000000     70.000000     3.000000\n",
       "50%    1073.000000  2013.000000     70.000000     3.250000\n",
       "75%    1502.000000  2015.000000     75.000000     3.500000\n",
       "max    1952.000000  2017.000000    735.000000     5.000000"
      ]
     },
     "execution_count": 13,
     "metadata": {},
     "output_type": "execute_result"
    }
   ],
   "source": [
    "df.describe()"
   ]
  },
  {
   "cell_type": "code",
   "execution_count": 14,
   "id": "0146efee-3ef5-4698-b4a3-d19b116ff5ed",
   "metadata": {},
   "outputs": [],
   "source": [
    "df.drop(df[df.CocoaPercent > 100].index, inplace = True)"
   ]
  },
  {
   "cell_type": "code",
   "execution_count": 15,
   "id": "c1ff2607-ef28-4e4b-a608-c4fbb2a8e00f",
   "metadata": {},
   "outputs": [
    {
     "data": {
      "text/plain": [
       "Text(0.5, 0, 'Cocoa Percent')"
      ]
     },
     "execution_count": 15,
     "metadata": {},
     "output_type": "execute_result"
    },
    {
     "data": {
      "image/png": "[encoded data removed]",
      "text/plain": [
       "<Figure size 1152x360 with 1 Axes>"
      ]
     },
     "metadata": {
      "needs_background": "light"
     },
     "output_type": "display_data"
    }
   ],
   "source": [
    "ratings = df.Rating.values\n",
    "percent = df.CocoaPercent.values\n",
    "plt.figure(figsize = (16,5))\n",
    "plt.scatter(percent, ratings,color = \"blue\", alpha = 0.05)\n",
    "plt.xlabel(\"Cocoa Percent\")"
   ]
  },
  {
   "cell_type": "code",
   "execution_count": 16,
   "id": "c1d78ff4-8f6c-42b0-9b2a-665a3a627a53",
   "metadata": {},
   "outputs": [],
   "source": [
    "# There is no relationship. Higher density areas are all over the graph. To see a tendency we would need to see the higher density areas uniformily increase with the cocoa percentage vs rating"
   ]
  },
  {
   "cell_type": "markdown",
   "id": "b5381141-0695-40e4-87e0-c148ecac7d1e",
   "metadata": {},
   "source": [
    "# Step 6 Normalization\n",
    "Normalize the Ratings Column and print the results."
   ]
  },
  {
   "cell_type": "code",
   "execution_count": 17,
   "id": "d5459285-d47b-437d-9e71-ca0c9f5a0bf1",
   "metadata": {},
   "outputs": [],
   "source": [
    "from sklearn.preprocessing import StandardScaler\n",
    "scaler = StandardScaler()\n",
    "x = df.iloc[:, 6:7].values\n",
    "x_normalized = scaler.fit_transform(x)"
   ]
  },
  {
   "cell_type": "code",
   "execution_count": 18,
   "id": "0efa39fe-62e9-4d5f-9907-9b4c5e7c6308",
   "metadata": {},
   "outputs": [
    {
     "data": {
      "text/plain": [
       "array([[ 1.17923076],\n",
       "       [-0.91587607],\n",
       "       [-0.39209936],\n",
       "       ...,\n",
       "       [ 0.65545405],\n",
       "       [ 0.13167735],\n",
       "       [-0.39209936]])"
      ]
     },
     "execution_count": 18,
     "metadata": {},
     "output_type": "execute_result"
    }
   ],
   "source": [
    "x_normalized"
   ]
  },
  {
   "cell_type": "markdown",
   "id": "110066e2-2a03-4450-b020-85238abfc497",
   "metadata": {},
   "source": [
    "# 7 Challenge Yourself (Optional)\n",
    "List the companies ordered by their average score (averaged over each company’s reviews)."
   ]
  },
  {
   "cell_type": "code",
   "execution_count": 19,
   "id": "4ae5a51a-9652-4ff4-8e52-b9ba416a39e9",
   "metadata": {},
   "outputs": [],
   "source": [
    "average_scores = df.groupby('Company')['Rating'].mean().sort_values(ascending=False)"
   ]
  },
  {
   "cell_type": "code",
   "execution_count": 20,
   "id": "0689d522-c06a-4187-af42-77f6b0a38c41",
   "metadata": {},
   "outputs": [
    {
     "data": {
      "text/plain": [
       "Company\n",
       "Tobago Estate (Pralus)                  4.000000\n",
       "Heirloom Cacao Preservation (Zokoko)    3.875000\n",
       "Ocelot                                  3.875000\n",
       "Amedei                                  3.846154\n",
       "Matale                                  3.812500\n",
       "                                          ...   \n",
       "Ki' Xocolatl                            2.000000\n",
       "Majani                                  2.000000\n",
       "Callebaut                               1.875000\n",
       "Machu Picchu Trading Co.                1.875000\n",
       "Cote d' Or (Kraft)                      1.000000\n",
       "Name: Rating, Length: 415, dtype: float64"
      ]
     },
     "execution_count": 20,
     "metadata": {},
     "output_type": "execute_result"
    }
   ],
   "source": [
    "average_scores"
   ]
  },
  {
   "cell_type": "markdown",
   "id": "e1586a0a-b1c7-42e0-a285-31808c831fb0",
   "metadata": {},
   "source": [
    "# 8 Encoding\n",
    "Suppose we are interested in the company’s names and locations for some collective analysis. Encode the two categorical columns with the encoder you think is best for the job!"
   ]
  },
  {
   "cell_type": "code",
   "execution_count": 22,
   "id": "d76798e8-383f-4d67-8067-4bb26b893945",
   "metadata": {},
   "outputs": [],
   "source": [
    "from sklearn.preprocessing import OrdinalEncoder\n",
    "\n",
    "# Initialize the encoder\n",
    "encoder = OrdinalEncoder()\n",
    "\n",
    "# Fit and transform the data\n",
    "df[['Company', 'CompanyLocation']] = encoder.fit_transform(df[['Company', 'CompanyLocation']])\n"
   ]
  },
  {
   "cell_type": "code",
   "execution_count": 23,
   "id": "3852995b-a454-4571-8545-e637437da2e5",
   "metadata": {},
   "outputs": [
    {
     "data": {
      "text/html": [
       "<div>\n",
       "<style scoped>\n",
       "    .dataframe tbody tr th:only-of-type {\n",
       "        vertical-align: middle;\n",
       "    }\n",
       "\n",
       "    .dataframe tbody tr th {\n",
       "        vertical-align: top;\n",
       "    }\n",
       "\n",
       "    .dataframe thead th {\n",
       "        text-align: right;\n",
       "    }\n",
       "</style>\n",
       "<table border=\"1\" class=\"dataframe\">\n",
       "  <thead>\n",
       "    <tr style=\"text-align: right;\">\n",
       "      <th></th>\n",
       "      <th>Company</th>\n",
       "      <th>SpecificBeanOrigin</th>\n",
       "      <th>REF</th>\n",
       "      <th>ReviewDate</th>\n",
       "      <th>CocoaPercent</th>\n",
       "      <th>CompanyLocation</th>\n",
       "      <th>Rating</th>\n",
       "      <th>BeanType</th>\n",
       "      <th>BroadBeanOrigin</th>\n",
       "    </tr>\n",
       "  </thead>\n",
       "  <tbody>\n",
       "    <tr>\n",
       "      <th>0</th>\n",
       "      <td>0.0</td>\n",
       "      <td>Agua Grande</td>\n",
       "      <td>1876</td>\n",
       "      <td>2016</td>\n",
       "      <td>63</td>\n",
       "      <td>18.0</td>\n",
       "      <td>3.75</td>\n",
       "      <td></td>\n",
       "      <td>Sao Tome</td>\n",
       "    </tr>\n",
       "    <tr>\n",
       "      <th>1</th>\n",
       "      <td>0.0</td>\n",
       "      <td>Kpime</td>\n",
       "      <td>1676</td>\n",
       "      <td>2015</td>\n",
       "      <td>70</td>\n",
       "      <td>18.0</td>\n",
       "      <td>2.75</td>\n",
       "      <td></td>\n",
       "      <td>Togo</td>\n",
       "    </tr>\n",
       "    <tr>\n",
       "      <th>2</th>\n",
       "      <td>0.0</td>\n",
       "      <td>Atsane</td>\n",
       "      <td>1676</td>\n",
       "      <td>2015</td>\n",
       "      <td>70</td>\n",
       "      <td>18.0</td>\n",
       "      <td>3.00</td>\n",
       "      <td></td>\n",
       "      <td>Togo</td>\n",
       "    </tr>\n",
       "    <tr>\n",
       "      <th>3</th>\n",
       "      <td>0.0</td>\n",
       "      <td>Akata</td>\n",
       "      <td>1680</td>\n",
       "      <td>2015</td>\n",
       "      <td>70</td>\n",
       "      <td>18.0</td>\n",
       "      <td>3.50</td>\n",
       "      <td></td>\n",
       "      <td>Togo</td>\n",
       "    </tr>\n",
       "    <tr>\n",
       "      <th>4</th>\n",
       "      <td>0.0</td>\n",
       "      <td>Quilla</td>\n",
       "      <td>1704</td>\n",
       "      <td>2015</td>\n",
       "      <td>70</td>\n",
       "      <td>18.0</td>\n",
       "      <td>3.50</td>\n",
       "      <td></td>\n",
       "      <td>Peru</td>\n",
       "    </tr>\n",
       "    <tr>\n",
       "      <th>...</th>\n",
       "      <td>...</td>\n",
       "      <td>...</td>\n",
       "      <td>...</td>\n",
       "      <td>...</td>\n",
       "      <td>...</td>\n",
       "      <td>...</td>\n",
       "      <td>...</td>\n",
       "      <td>...</td>\n",
       "      <td>...</td>\n",
       "    </tr>\n",
       "    <tr>\n",
       "      <th>1790</th>\n",
       "      <td>409.0</td>\n",
       "      <td>Peru</td>\n",
       "      <td>647</td>\n",
       "      <td>2011</td>\n",
       "      <td>70</td>\n",
       "      <td>3.0</td>\n",
       "      <td>3.75</td>\n",
       "      <td></td>\n",
       "      <td>Peru</td>\n",
       "    </tr>\n",
       "    <tr>\n",
       "      <th>1791</th>\n",
       "      <td>409.0</td>\n",
       "      <td>Congo</td>\n",
       "      <td>749</td>\n",
       "      <td>2011</td>\n",
       "      <td>65</td>\n",
       "      <td>3.0</td>\n",
       "      <td>3.00</td>\n",
       "      <td>Forastero</td>\n",
       "      <td>Congo</td>\n",
       "    </tr>\n",
       "    <tr>\n",
       "      <th>1792</th>\n",
       "      <td>409.0</td>\n",
       "      <td>Kerala State</td>\n",
       "      <td>749</td>\n",
       "      <td>2011</td>\n",
       "      <td>65</td>\n",
       "      <td>3.0</td>\n",
       "      <td>3.50</td>\n",
       "      <td>Forastero</td>\n",
       "      <td>India</td>\n",
       "    </tr>\n",
       "    <tr>\n",
       "      <th>1793</th>\n",
       "      <td>409.0</td>\n",
       "      <td>Kerala State</td>\n",
       "      <td>781</td>\n",
       "      <td>2011</td>\n",
       "      <td>62</td>\n",
       "      <td>3.0</td>\n",
       "      <td>3.25</td>\n",
       "      <td></td>\n",
       "      <td>India</td>\n",
       "    </tr>\n",
       "    <tr>\n",
       "      <th>1794</th>\n",
       "      <td>409.0</td>\n",
       "      <td>Brazil, Mitzi Blue</td>\n",
       "      <td>486</td>\n",
       "      <td>2010</td>\n",
       "      <td>65</td>\n",
       "      <td>3.0</td>\n",
       "      <td>3.00</td>\n",
       "      <td></td>\n",
       "      <td>Brazil</td>\n",
       "    </tr>\n",
       "  </tbody>\n",
       "</table>\n",
       "<p>1786 rows × 9 columns</p>\n",
       "</div>"
      ],
      "text/plain": [
       "      Company  SpecificBeanOrigin   REF  ReviewDate  CocoaPercent  \\\n",
       "0         0.0         Agua Grande  1876        2016            63   \n",
       "1         0.0               Kpime  1676        2015            70   \n",
       "2         0.0              Atsane  1676        2015            70   \n",
       "3         0.0               Akata  1680        2015            70   \n",
       "4         0.0              Quilla  1704        2015            70   \n",
       "...       ...                 ...   ...         ...           ...   \n",
       "1790    409.0                Peru   647        2011            70   \n",
       "1791    409.0               Congo   749        2011            65   \n",
       "1792    409.0        Kerala State   749        2011            65   \n",
       "1793    409.0        Kerala State   781        2011            62   \n",
       "1794    409.0  Brazil, Mitzi Blue   486        2010            65   \n",
       "\n",
       "      CompanyLocation  Rating   BeanType BroadBeanOrigin  \n",
       "0                18.0    3.75                   Sao Tome  \n",
       "1                18.0    2.75                       Togo  \n",
       "2                18.0    3.00                       Togo  \n",
       "3                18.0    3.50                       Togo  \n",
       "4                18.0    3.50                       Peru  \n",
       "...               ...     ...        ...             ...  \n",
       "1790              3.0    3.75                       Peru  \n",
       "1791              3.0    3.00  Forastero           Congo  \n",
       "1792              3.0    3.50  Forastero           India  \n",
       "1793              3.0    3.25                      India  \n",
       "1794              3.0    3.00                     Brazil  \n",
       "\n",
       "[1786 rows x 9 columns]"
      ]
     },
     "execution_count": 23,
     "metadata": {},
     "output_type": "execute_result"
    }
   ],
   "source": [
    "df"
   ]
  },
  {
   "cell_type": "code",
   "execution_count": null,
   "id": "49b5005c-eb8d-4fd1-b01c-bc98506bad38",
   "metadata": {},
   "outputs": [],
   "source": []
  }
 ],
 "metadata": {
  "kernelspec": {
   "display_name": "anaconda-2022.05-py39",
   "language": "python",
   "name": "conda-env-anaconda-2022.05-py39-py"
  },
  "language_info": {
   "codemirror_mode": {
    "name": "ipython",
    "version": 3
   },
   "file_extension": ".py",
   "mimetype": "text/x-python",
   "name": "python",
   "nbconvert_exporter": "python",
   "pygments_lexer": "ipython3",
   "version": "3.9.12"
  }
 },
 "nbformat": 4,
 "nbformat_minor": 5
}
